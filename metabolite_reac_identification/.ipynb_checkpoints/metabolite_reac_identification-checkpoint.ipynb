{
 "cells": [
  {
   "cell_type": "code",
   "execution_count": 1,
   "id": "e7759648",
   "metadata": {},
   "outputs": [],
   "source": [
    "%reload_ext autoreload\n",
    "\n",
    "from function_metabolite_identification import *\n",
    "from function_reac_identification import *\n",
    "from function_annotate_cobra_model import *\n",
    "import cobra.io\n",
    "import numpy as np\n",
    "import re"
   ]
  },
  {
   "cell_type": "code",
   "execution_count": 2,
   "id": "ad78fb68",
   "metadata": {},
   "outputs": [],
   "source": [
    "cobra_model = cobra.io.read_sbml_model('models/Human-GEM_2022-06-21.xml')\n",
    "model = 'models/Human-GEM_2022-06-21.xml'\n",
    "database = 'models/H1-compartments_DB-2023-02-10_no_cientific_notation_st_coef-rebalanced.xml'"
   ]
  },
  {
   "cell_type": "code",
   "execution_count": null,
   "id": "a3e4d947",
   "metadata": {},
   "outputs": [],
   "source": [
    "metabolites = gather_metabolites(cobra_model)\n",
    "generate_met_annotation(metabolites)"
   ]
  },
  {
   "cell_type": "code",
   "execution_count": 3,
   "id": "24805d51",
   "metadata": {},
   "outputs": [],
   "source": [
    "met_annotation = process_annotation()"
   ]
  },
  {
   "cell_type": "code",
   "execution_count": 4,
   "id": "865228bd",
   "metadata": {},
   "outputs": [],
   "source": [
    "reac = process_reac(model, '[A-Z]+[0-9]+[a-z]+[0-9]*', 'MAM02040', 'MAM02039')\n",
    "reac = replace_met_id_by_met_kegg(reac, gather_kegg_metabolites(model))\n",
    "reac_y = process_reac(database, '([A-Z][0-9]+_?[a-z]+[0-9]*)', 'C00080', 'C00001')\n",
    "jaccard = execute_jaccard(reac_y, reac)\n",
    "reac_annotation = process_jaccard(reac_y, reac, jaccard)"
   ]
  },
  {
   "cell_type": "code",
   "execution_count": 5,
   "id": "1e741d4d",
   "metadata": {},
   "outputs": [],
   "source": [
    "annotate_cobra_model(cobra_model, met_annotation, reac_annotation)"
   ]
  }
 ],
 "metadata": {
  "kernelspec": {
   "display_name": "Python 3 (ipykernel)",
   "language": "python",
   "name": "python3"
  },
  "language_info": {
   "codemirror_mode": {
    "name": "ipython",
    "version": 3
   },
   "file_extension": ".py",
   "mimetype": "text/x-python",
   "name": "python",
   "nbconvert_exporter": "python",
   "pygments_lexer": "ipython3",
   "version": "3.9.12"
  }
 },
 "nbformat": 4,
 "nbformat_minor": 5
}
