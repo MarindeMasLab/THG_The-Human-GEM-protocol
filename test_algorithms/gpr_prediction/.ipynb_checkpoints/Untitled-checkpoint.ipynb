{
 "cells": [
  {
   "cell_type": "code",
   "execution_count": 9,
   "id": "6edd843a",
   "metadata": {},
   "outputs": [],
   "source": [
    "import pandas as pd\n",
    "\n",
    "x = pd.read_csv(\"files/ec-number-results.csv\")[[\"ecnumber\",\"expected_gprs\",\"message\"]]\n",
    "\n",
    "y = x[x.message.isnull()].reset_index(drop=True)\n",
    "y['predicted_gpr'] = y['expected_gprs']\n",
    "y['result'] = 'expected gpr and predicted gpr were right'\n",
    "\n",
    "z = x[x.message.str.contains(\"assert '\", na=False)]\n",
    "v = x[x.message.str.contains(\"None\", na=False)]\n",
    "\n",
    "w = pd.concat([z, v])\n",
    "w['predicted_gpr'] = w.message.str.extract(\" in '(.+)'\\n\")\n",
    "w = w.drop(columns=[\"message\"])\n",
    "\n",
    "a_X =['2.4.1.17','1.11.1.7'] \n",
    "b_X =['2.4.1.224','2.7.4.6','6.2.1.5','6.4.1.4']\n",
    "b_Y =['1.1.1.211','1.1.1.50','1.1.5.3','1.14.13.70','1.3.99.3','1.6.99.3','2.3.1.154','2.4.1.37','2.7.1.113', '2.7.1.2','2.7.1.48', '2.7.10.1','3.1.1.23','3.5.1.3','3.6.1.52', '3.6.3.14', '3.6.4.13', '4.2.1.3','4.2.3.2','6.2.1.17'] \n",
    "b_Z =['1.1.1.161','1.1.1.72','1.13.11.42','1.14.13.95','1.14.99.7','1.2.1.21','1.2.1.29','1.2.1.40','1.3.3.2','1.4.1.4','2.4.2.2','1.1.1.35','1.1.1.42','1.2.1.24','1.2.1.31','2.7.7.23','3.1.1.3','3.1.2.2','3.1.4.11','3.1.4.17','3.2.1.35','3.4.11.1','3.6.1.1','4.6.1.2']\n",
    "\n",
    "a_X = z[z.ecnumber.isin(a_X)] # manually inspected to be right with the information available (incomplete Biocyc gene information)\n",
    "b_X = z[z.ecnumber.isin(b_X)] # manually inspected to be wrong (the OR/AND operater)\n",
    "b_Y = z[z.ecnumber.isin(b_Y)] # manually inspected to be wrong (the predicted gpr was incomplete)\n",
    "b_Z = w[w.ecnumber.isin(b_Z)] # manually inspected to not to be None (predicted to be None)\n",
    "\n",
    "ab_XXYZ = pd.concat([a_X,b_X,b_Y,b_Z])\n",
    "\n",
    "a_Y = z[~z.ecnumber.isin(ab_XXYZ.ecnumber)] # manually inspected to be right \n",
    "a_Z = v[~v.ecnumber.isin(b_Z.ecnumber)] # # manually inspected to be right (None)\n",
    "\n",
    "y_X = pd.concat([a_X.reset_index(drop=True), a_Y.reset_index(drop=True), a_Z.reset_index(drop=True)])\n",
    "y_X ['result'] = 'predicted gpr was right'\n",
    "\n",
    "y_Y = pd.concat([b_X.reset_index(drop=True), b_Y.reset_index(drop=True), b_Z.reset_index(drop=True)])\n",
    "y_Y['result'] = 'expected and predicted gpr were wrong'\n",
    "\n",
    "Y =pd.concat([y.reset_index(drop=True), y_X, y_Y])\n",
    "Y = Y.drop(columns=[\"message\"])\n",
    "Y.rename(columns={'expected_gprs':'expected_gpr'}, inplace=True)\n",
    "\n",
    "Y.to_excel('files/gpr_prediction.xlsx', engine='xlsxwriter', index=False)"
   ]
  }
 ],
 "metadata": {
  "kernelspec": {
   "display_name": "Python 3 (ipykernel)",
   "language": "python",
   "name": "python3"
  },
  "language_info": {
   "codemirror_mode": {
    "name": "ipython",
    "version": 3
   },
   "file_extension": ".py",
   "mimetype": "text/x-python",
   "name": "python",
   "nbconvert_exporter": "python",
   "pygments_lexer": "ipython3",
   "version": "3.9.12"
  }
 },
 "nbformat": 4,
 "nbformat_minor": 5
}
