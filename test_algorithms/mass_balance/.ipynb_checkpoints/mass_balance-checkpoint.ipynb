{
 "cells": [
  {
   "cell_type": "code",
   "execution_count": null,
   "id": "44007eeb",
   "metadata": {},
   "outputs": [],
   "source": [
    "###########\n",
    "# This piece of code is fully functional and ready to be integrated into MB_REM function to choose the solution with the smallest steochiometric coefficients. The code is able to use the output of solve function (line 30)\n",
    "# In addition a new function has been created \"maximumGCD\" (line 58) that has to be added to the code in function.py\n",
    "from cobra.io import read_sbml_model\n",
    "from lib2to3.pgen2.token import GREATER\n",
    "from cmath import isnan\n",
    "import sys\n",
    "import numpy as np\n",
    "import scipy\n",
    "#import sys\n",
    "import re\n",
    "import json\n",
    "import csv\n",
    "from collections import defaultdict\n",
    "#from scipy.optimize import fsolve\n",
    "#from scipy.optimize import nnls \n",
    "#from scipy.sparse.linalg import lsqr\n",
    "from sympy.solvers import solve\n",
    "#from sympy import Symbol\n",
    "#import matplotlib.pyplot as plt\n",
    "#from fractions import gcd\n",
    "import numpy.matlib\n",
    "#from sympy import *\n",
    "import sympy\n",
    "from numpy import size#,matrix,zeros\n",
    "#from numpy.linalg import det\n",
    "#import scipy.optimize as optimize\n",
    "from scipy.optimize import linprog\n",
    "from itertools import chain, zip_longest \n",
    "import urllib.request\n",
    "from functools import reduce\n",
    "import traceback\n",
    "from cobra.io import read_sbml_model,write_sbml_model\n",
    "#from math import gcd\n",
    "import math\n",
    "import csv\n",
    "import pandas as pd\n",
    "from equations_mass_balance import *"
   ]
  },
  {
   "cell_type": "code",
   "execution_count": null,
   "id": "0bb6bb70",
   "metadata": {},
   "outputs": [],
   "source": [
    "cobra_model = read_sbml_model('models/F-H1-compartments_DB-2022-10-05.xml')"
   ]
  },
  {
   "cell_type": "code",
   "execution_count": null,
   "id": "296fd4d0",
   "metadata": {},
   "outputs": [],
   "source": [
    "ListOfMetFrom = {k: str() if v is None else v for (k, v) in {x.id: x.formula for x in cobra_model.metabolites}.items()}\n",
    "v = {8: 'H1', 11: 'H1', 13: 'DB'}\n",
    "\n",
    "RxnList, Rxn2MB = [],[]\n",
    "for x in cobra_model.reactions:    \n",
    "\teq = re.sub('(^| )[0-9\\.]+','',re.sub('e-[0-9]+','', re.sub('<=>','->', re.sub('-->','->', re.sub('  ',' ', re.sub('[0-9\\.]+e-[0-9]+','', x.reaction)))))).strip()\n",
    "\tRxn = re.sub('[a-z]+[0-9]*', '', eq)\n",
    "\tRxnID =  x.annotation.get('kegg.reaction',str())        \n",
    "\tspecies = [x.id for x in x.reactants] + [x.id for x in x.products]     \n",
    "\tif not Rxn in RxnList:   \n",
    "\t\tfor y in species:             \n",
    "\t\t\teq = re.sub(y, ListOfMetFrom.get(y,str()), eq)                 \n",
    "\t\tRxn2MB.append([x.id, RxnID, v[len(x.id)], Rxn, eq])     \n",
    "\t\tRxnList.append(Rxn)        "
   ]
  },
  {
   "cell_type": "code",
   "execution_count": null,
   "id": "06150411",
   "metadata": {},
   "outputs": [],
   "source": [
    "\n",
    "## Apply the MB algorithm\n",
    "\n",
    "AddH = 0\n",
    "H2O = 0\n",
    "RxnID = 'R'\n",
    "MBSummary = []\n",
    "MB_e = []\n",
    "\n",
    "for i in range(0, len(Rxn2MB)):\n",
    "\teq = Rxn2MB[i][-1]\n",
    "\ty = Rxn2MB[i][0]\n",
    "\ttry:                \n",
    "\t\tb = RxnBalance2(eq,RxnID)   \n",
    "\t\tMBSummary.append([b[0],b[1],b[6],b[7],b[9],b[10]])      \n",
    "\texcept Exception as e:          \n",
    "\t\treactants = [ListOfMetFrom.get(x.id, str()) for x in cobra_model.reactions.get_by_id(y).reactants]\n",
    "\t\tproducts = [ListOfMetFrom.get(x.id, str()) for x in cobra_model.reactions.get_by_id(y).products]        \n",
    "\t\tMB_e.append([RxnID, eq])   \n",
    "\t\tMBSummary.append([[],[],reactants,products,eq,3])    "
   ]
  },
  {
   "cell_type": "code",
   "execution_count": null,
   "id": "f3e1cee1",
   "metadata": {},
   "outputs": [],
   "source": [
    "MBSum = pd.DataFrame(MBSummary)\n",
    "MBSum.columns = [5,6,7,8,4,9]\n",
    "MBSum = pd.merge(pd.DataFrame(Rxn2MB), MBSum, on=[4]).drop_duplicates([3])\n",
    "MBSum = MBSum.astype(str)"
   ]
  },
  {
   "cell_type": "code",
   "execution_count": null,
   "id": "1704813c",
   "metadata": {},
   "outputs": [],
   "source": [
    "writer = pd.ExcelWriter('files/mass_balance.xlsx', engine='xlsxwriter')\n",
    "MBSum[(MBSum[9].str.contains('0',na=False)) | (MBSum[9].str.contains('1',na=False))].drop([9],axis=1).to_excel(writer, sheet_name='mass_balanced', index=False)\n",
    "MBSum[(MBSum[9].str.contains('2',na=False)) | (MBSum[9].str.contains('3',na=False))].drop([9],axis=1).to_excel(writer, sheet_name='not_mass_balanced', index=False)\n",
    "writer.close()"
   ]
  }
 ],
 "metadata": {
  "kernelspec": {
   "display_name": "Python 3 (ipykernel)",
   "language": "python",
   "name": "python3"
  },
  "language_info": {
   "codemirror_mode": {
    "name": "ipython",
    "version": 3
   },
   "file_extension": ".py",
   "mimetype": "text/x-python",
   "name": "python",
   "nbconvert_exporter": "python",
   "pygments_lexer": "ipython3",
   "version": "3.9.12"
  }
 },
 "nbformat": 4,
 "nbformat_minor": 5
}
